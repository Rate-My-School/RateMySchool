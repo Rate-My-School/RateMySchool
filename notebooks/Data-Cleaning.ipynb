{
 "cells": [
  {
   "cell_type": "code",
   "execution_count": 1,
   "metadata": {},
   "outputs": [
    {
     "name": "stderr",
     "output_type": "stream",
     "text": [
      "C:\\Users\\dsouz\\AppData\\Local\\Temp\\ipykernel_6276\\1829568801.py:4: DtypeWarning: Columns (9,1537,1540,1542,1606,1608,1614,1615,1619,1620,1621,1622,1623,1624,1625,1626,1627,1628,1629,1703,1704,1725,1726,1727,1728,1729,1743,1815,1816,1817,1818,1823,1824,1830,1831,1879,1880,1881,1882,1883,1884,1885,1886,1887,1888,1889,1890,1891,1892,1893,1894,1895,1896,1897,1898,1909,1910,1911,1912,1913,1957,1958,1959,1960,1961,1962,1963,1964,1965,1966,1967,1968,1969,1970,1971,1972,1973,1974,1975,1976,1983,1984,2376,2377,2403,2404,2495,2496,2497,2498,2499,2500,2501,2502,2503,2504,2505,2506,2507,2508,2509,2510,2511,2512,2513,2514,2515,2516,2517,2518,2519,2520,2521,2522,2523,2524,2525,2526,2527,2528,2529,2530,2958,3215,3231) have mixed types. Specify dtype option on import or set low_memory=False.\n",
      "  df = pd.read_csv('../data/Most-Recent-Cohorts-Institution.csv')\n"
     ]
    }
   ],
   "source": [
    "import pandas as pd\n",
    "import numpy as np\n",
    "\n",
    "df = pd.read_csv('../data/Most-Recent-Cohorts-Institution.csv')"
   ]
  },
  {
   "cell_type": "code",
   "execution_count": 2,
   "metadata": {},
   "outputs": [
    {
     "data": {
      "text/plain": [
       "(6543, 3232)"
      ]
     },
     "execution_count": 2,
     "metadata": {},
     "output_type": "execute_result"
    }
   ],
   "source": [
    "df.shape"
   ]
  },
  {
   "cell_type": "code",
   "execution_count": 3,
   "metadata": {},
   "outputs": [
    {
     "name": "stderr",
     "output_type": "stream",
     "text": [
      "C:\\Users\\dsouz\\AppData\\Local\\Temp\\ipykernel_6276\\2298221436.py:1: DtypeWarning: Columns (10,11,12) have mixed types. Specify dtype option on import or set low_memory=False.\n",
      "  df_2 = pd.read_csv('../data/college_data.csv')\n"
     ]
    }
   ],
   "source": [
    "df_2 = pd.read_csv('../data/college_data.csv')"
   ]
  },
  {
   "cell_type": "code",
   "execution_count": 4,
   "metadata": {},
   "outputs": [
    {
     "data": {
      "text/plain": [
       "(58123, 33)"
      ]
     },
     "execution_count": 4,
     "metadata": {},
     "output_type": "execute_result"
    }
   ],
   "source": [
    "df_2.shape"
   ]
  },
  {
   "cell_type": "code",
   "execution_count": 5,
   "metadata": {},
   "outputs": [
    {
     "name": "stdout",
     "output_type": "stream",
     "text": [
      "Index(['UNITID', 'INSTNM', 'CITY', 'STABBR', 'ZIP', 'REGION', 'PREDDEG',\n",
      "       'LOCALE', 'LATITUDE', 'LONGITUDE', 'CCBASIC', 'CCUGPROF', 'CCSIZSET',\n",
      "       'ADM_RATE_ALL', 'PPTUG_EF', 'SAT_AVG_ALL', 'COSTT4_A', 'CONTROL',\n",
      "       'TUITIONFEE_IN', 'TUITIONFEE_OUT', 'MEDIAN_HH_INC',\n",
      "       'MN_EARN_WNE_INDEP0_P10', 'MN_EARN_WNE_INDEP1_P10', 'UGDS_WHITE',\n",
      "       'UGDS_BLACK', 'UGDS_HISP', 'UGDS_ASIAN', 'UGDS_AIAN', 'UGDS_NHPI',\n",
      "       'UGDS_2MOR', 'UGDS_NRA', 'UGDS_UNKN'],\n",
      "      dtype='object')\n"
     ]
    }
   ],
   "source": [
    "columns_wanted = df_2.columns\n",
    "columns_wanted = columns_wanted.delete(-1)\n",
    "print(columns_wanted)"
   ]
  },
  {
   "cell_type": "code",
   "execution_count": 6,
   "metadata": {},
   "outputs": [
    {
     "name": "stdout",
     "output_type": "stream",
     "text": [
      "All columns in the list are present in the DataFrame.\n"
     ]
    }
   ],
   "source": [
    "missing_columns = [col for col in columns_wanted if col not in df.columns]\n",
    "\n",
    "# Print the missing columns\n",
    "if missing_columns:\n",
    "    print(\"The following columns are not present in the DataFrame:\")\n",
    "    for col in missing_columns:\n",
    "        print(col)\n",
    "else:\n",
    "    print(\"All columns in the list are present in the DataFrame.\")"
   ]
  },
  {
   "cell_type": "code",
   "execution_count": 7,
   "metadata": {},
   "outputs": [],
   "source": [
    "finaldf = df[columns_wanted]"
   ]
  },
  {
   "cell_type": "code",
   "execution_count": 8,
   "metadata": {},
   "outputs": [
    {
     "data": {
      "text/plain": [
       "Index(['UNITID', 'INSTNM', 'CITY', 'STABBR', 'ZIP', 'REGION', 'PREDDEG',\n",
       "       'LOCALE', 'LATITUDE', 'LONGITUDE', 'CCBASIC', 'CCUGPROF', 'CCSIZSET',\n",
       "       'ADM_RATE_ALL', 'PPTUG_EF', 'SAT_AVG_ALL', 'COSTT4_A', 'CONTROL',\n",
       "       'TUITIONFEE_IN', 'TUITIONFEE_OUT', 'MEDIAN_HH_INC',\n",
       "       'MN_EARN_WNE_INDEP0_P10', 'MN_EARN_WNE_INDEP1_P10', 'UGDS_WHITE',\n",
       "       'UGDS_BLACK', 'UGDS_HISP', 'UGDS_ASIAN', 'UGDS_AIAN', 'UGDS_NHPI',\n",
       "       'UGDS_2MOR', 'UGDS_NRA', 'UGDS_UNKN'],\n",
       "      dtype='object')"
      ]
     },
     "execution_count": 8,
     "metadata": {},
     "output_type": "execute_result"
    }
   ],
   "source": [
    "finaldf.columns"
   ]
  },
  {
   "cell_type": "code",
   "execution_count": 9,
   "metadata": {},
   "outputs": [],
   "source": [
    "finaldf.to_csv(path_or_buf='../data/finaldf.csv')"
   ]
  },
  {
   "cell_type": "code",
   "execution_count": null,
   "metadata": {},
   "outputs": [],
   "source": []
  }
 ],
 "metadata": {
  "kernelspec": {
   "display_name": "base",
   "language": "python",
   "name": "python3"
  },
  "language_info": {
   "codemirror_mode": {
    "name": "ipython",
    "version": 3
   },
   "file_extension": ".py",
   "mimetype": "text/x-python",
   "name": "python",
   "nbconvert_exporter": "python",
   "pygments_lexer": "ipython3",
   "version": "3.11.4"
  }
 },
 "nbformat": 4,
 "nbformat_minor": 2
}
