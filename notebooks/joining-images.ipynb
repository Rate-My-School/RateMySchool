{
 "cells": [
  {
   "cell_type": "code",
   "execution_count": 1,
   "metadata": {},
   "outputs": [],
   "source": [
    "import pandas as pd \n",
    "import numpy as np \n"
   ]
  },
  {
   "cell_type": "code",
   "execution_count": 2,
   "metadata": {},
   "outputs": [],
   "source": [
    "df = pd.read_csv('../data/schoolSchema.csv')"
   ]
  },
  {
   "cell_type": "code",
   "execution_count": 3,
   "metadata": {},
   "outputs": [
    {
     "data": {
      "text/plain": [
       "(3787, 5)"
      ]
     },
     "execution_count": 3,
     "metadata": {},
     "output_type": "execute_result"
    }
   ],
   "source": [
    "df.shape\n",
    "#df.drop('Unnamed: 0',axis=1,inplace=True)"
   ]
  },
  {
   "cell_type": "code",
   "execution_count": 4,
   "metadata": {},
   "outputs": [
    {
     "data": {
      "text/html": [
       "<div>\n",
       "<style scoped>\n",
       "    .dataframe tbody tr th:only-of-type {\n",
       "        vertical-align: middle;\n",
       "    }\n",
       "\n",
       "    .dataframe tbody tr th {\n",
       "        vertical-align: top;\n",
       "    }\n",
       "\n",
       "    .dataframe thead th {\n",
       "        text-align: right;\n",
       "    }\n",
       "</style>\n",
       "<table border=\"1\" class=\"dataframe\">\n",
       "  <thead>\n",
       "    <tr style=\"text-align: right;\">\n",
       "      <th></th>\n",
       "      <th>title</th>\n",
       "      <th>tuition</th>\n",
       "      <th>location</th>\n",
       "      <th>image</th>\n",
       "      <th>rating</th>\n",
       "    </tr>\n",
       "  </thead>\n",
       "  <tbody>\n",
       "    <tr>\n",
       "      <th>0</th>\n",
       "      <td>Alabama A &amp; M University</td>\n",
       "      <td>10024.0</td>\n",
       "      <td>Normal AL 35762</td>\n",
       "      <td>NaN</td>\n",
       "      <td>0</td>\n",
       "    </tr>\n",
       "    <tr>\n",
       "      <th>1</th>\n",
       "      <td>University of Alabama at Birmingham</td>\n",
       "      <td>8568.0</td>\n",
       "      <td>Birmingham AL 35294-0110</td>\n",
       "      <td>NaN</td>\n",
       "      <td>0</td>\n",
       "    </tr>\n",
       "    <tr>\n",
       "      <th>2</th>\n",
       "      <td>University of Alabama in Huntsville</td>\n",
       "      <td>11488.0</td>\n",
       "      <td>Huntsville AL 35899</td>\n",
       "      <td>NaN</td>\n",
       "      <td>0</td>\n",
       "    </tr>\n",
       "    <tr>\n",
       "      <th>3</th>\n",
       "      <td>Alabama State University</td>\n",
       "      <td>11068.0</td>\n",
       "      <td>Montgomery AL 36104-0271</td>\n",
       "      <td>NaN</td>\n",
       "      <td>0</td>\n",
       "    </tr>\n",
       "    <tr>\n",
       "      <th>4</th>\n",
       "      <td>The University of Alabama</td>\n",
       "      <td>11620.0</td>\n",
       "      <td>Tuscaloosa AL 35487-0100</td>\n",
       "      <td>NaN</td>\n",
       "      <td>0</td>\n",
       "    </tr>\n",
       "  </tbody>\n",
       "</table>\n",
       "</div>"
      ],
      "text/plain": [
       "                                 title  tuition                  location  \\\n",
       "0             Alabama A & M University  10024.0           Normal AL 35762   \n",
       "1  University of Alabama at Birmingham   8568.0  Birmingham AL 35294-0110   \n",
       "2  University of Alabama in Huntsville  11488.0       Huntsville AL 35899   \n",
       "3             Alabama State University  11068.0  Montgomery AL 36104-0271   \n",
       "4            The University of Alabama  11620.0  Tuscaloosa AL 35487-0100   \n",
       "\n",
       "  image  rating  \n",
       "0   NaN       0  \n",
       "1   NaN       0  \n",
       "2   NaN       0  \n",
       "3   NaN       0  \n",
       "4   NaN       0  "
      ]
     },
     "execution_count": 4,
     "metadata": {},
     "output_type": "execute_result"
    }
   ],
   "source": [
    "df.head()"
   ]
  },
  {
   "cell_type": "code",
   "execution_count": 5,
   "metadata": {},
   "outputs": [],
   "source": [
    "#Now fill with images that are == NaN that we have in our names.csv\n",
    "imageDF = pd.read_csv('../image/names.csv')"
   ]
  },
  {
   "cell_type": "code",
   "execution_count": 6,
   "metadata": {},
   "outputs": [],
   "source": [
    "merged_df = pd.merge(imageDF, df, on='title', how='left')\n",
    "#left join to keep our current schema\n",
    "\n",
    "merged_df['image_x'] = merged_df['image_y']\n",
    "\n",
    "merged_df.drop('image_y',axis=1,inplace=True)\n",
    "\n",
    "merged_df = merged_df.rename(columns={'image_x': 'image'})\n"
   ]
  },
  {
   "cell_type": "code",
   "execution_count": 7,
   "metadata": {},
   "outputs": [
    {
     "data": {
      "text/plain": [
       "(221, 5)"
      ]
     },
     "execution_count": 7,
     "metadata": {},
     "output_type": "execute_result"
    }
   ],
   "source": [
    "merged_df.shape"
   ]
  },
  {
   "cell_type": "code",
   "execution_count": 8,
   "metadata": {},
   "outputs": [
    {
     "data": {
      "text/html": [
       "<div>\n",
       "<style scoped>\n",
       "    .dataframe tbody tr th:only-of-type {\n",
       "        vertical-align: middle;\n",
       "    }\n",
       "\n",
       "    .dataframe tbody tr th {\n",
       "        vertical-align: top;\n",
       "    }\n",
       "\n",
       "    .dataframe thead th {\n",
       "        text-align: right;\n",
       "    }\n",
       "</style>\n",
       "<table border=\"1\" class=\"dataframe\">\n",
       "  <thead>\n",
       "    <tr style=\"text-align: right;\">\n",
       "      <th></th>\n",
       "      <th>title</th>\n",
       "      <th>image</th>\n",
       "      <th>tuition</th>\n",
       "      <th>location</th>\n",
       "      <th>rating</th>\n",
       "    </tr>\n",
       "  </thead>\n",
       "  <tbody>\n",
       "    <tr>\n",
       "      <th>0</th>\n",
       "      <td>Bais Binyomin Academy</td>\n",
       "      <td>https://www.appily.com/themes/custom/fingerpri...</td>\n",
       "      <td>10050.0</td>\n",
       "      <td>Monsey NY 10952</td>\n",
       "      <td>0</td>\n",
       "    </tr>\n",
       "    <tr>\n",
       "      <th>1</th>\n",
       "      <td>Vaughn College of Aeronautics and Technology</td>\n",
       "      <td>https://www.vaughn.edu/wp-content/uploads/2020...</td>\n",
       "      <td>26150.0</td>\n",
       "      <td>Flushing NY 11369</td>\n",
       "      <td>0</td>\n",
       "    </tr>\n",
       "    <tr>\n",
       "      <th>2</th>\n",
       "      <td>Adelphi University</td>\n",
       "      <td>https://www.adelphi.edu/about/wp-content/uploa...</td>\n",
       "      <td>42475.0</td>\n",
       "      <td>Garden City NY 11530-0701</td>\n",
       "      <td>0</td>\n",
       "    </tr>\n",
       "    <tr>\n",
       "      <th>3</th>\n",
       "      <td>SUNY Adirondack</td>\n",
       "      <td>https://www.sunyacc.edu/sites/default/files/NS...</td>\n",
       "      <td>5784.0</td>\n",
       "      <td>Queensbury NY 12804</td>\n",
       "      <td>0</td>\n",
       "    </tr>\n",
       "    <tr>\n",
       "      <th>4</th>\n",
       "      <td>Bryant &amp; Stratton College-Albany</td>\n",
       "      <td>https://www.bryantstratton.edu/~/media/images/...</td>\n",
       "      <td>18356.0</td>\n",
       "      <td>Albany NY 12205</td>\n",
       "      <td>0</td>\n",
       "    </tr>\n",
       "  </tbody>\n",
       "</table>\n",
       "</div>"
      ],
      "text/plain": [
       "                                          title  \\\n",
       "0                         Bais Binyomin Academy   \n",
       "1  Vaughn College of Aeronautics and Technology   \n",
       "2                            Adelphi University   \n",
       "3                               SUNY Adirondack   \n",
       "4              Bryant & Stratton College-Albany   \n",
       "\n",
       "                                               image  tuition  \\\n",
       "0  https://www.appily.com/themes/custom/fingerpri...  10050.0   \n",
       "1  https://www.vaughn.edu/wp-content/uploads/2020...  26150.0   \n",
       "2  https://www.adelphi.edu/about/wp-content/uploa...  42475.0   \n",
       "3  https://www.sunyacc.edu/sites/default/files/NS...   5784.0   \n",
       "4  https://www.bryantstratton.edu/~/media/images/...  18356.0   \n",
       "\n",
       "                    location  rating  \n",
       "0            Monsey NY 10952       0  \n",
       "1          Flushing NY 11369       0  \n",
       "2  Garden City NY 11530-0701       0  \n",
       "3        Queensbury NY 12804       0  \n",
       "4            Albany NY 12205       0  "
      ]
     },
     "execution_count": 8,
     "metadata": {},
     "output_type": "execute_result"
    }
   ],
   "source": [
    "merged_df.head()"
   ]
  },
  {
   "cell_type": "code",
   "execution_count": 9,
   "metadata": {},
   "outputs": [],
   "source": [
    "merged_df.to_json('../data/schoolSchema.json',index=False,orient='records')\n",
    "# merged_df.to_csv('../data/schoolSchema.csv',index=False)\n"
   ]
  },
  {
   "cell_type": "code",
   "execution_count": null,
   "metadata": {},
   "outputs": [],
   "source": []
  }
 ],
 "metadata": {
  "kernelspec": {
   "display_name": "base",
   "language": "python",
   "name": "python3"
  },
  "language_info": {
   "codemirror_mode": {
    "name": "ipython",
    "version": 3
   },
   "file_extension": ".py",
   "mimetype": "text/x-python",
   "name": "python",
   "nbconvert_exporter": "python",
   "pygments_lexer": "ipython3",
   "version": "3.11.4"
  }
 },
 "nbformat": 4,
 "nbformat_minor": 2
}
