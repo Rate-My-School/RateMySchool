{
 "cells": [
  {
   "cell_type": "code",
   "execution_count": 1,
   "metadata": {},
   "outputs": [],
   "source": [
    "import pandas as pd\n",
    "import numpy as np\n",
    "\n",
    "df = pd.read_csv('../data/finaldf.csv')"
   ]
  },
  {
   "cell_type": "code",
   "execution_count": 2,
   "metadata": {},
   "outputs": [],
   "source": [
    "#This DF has a lot of info we don't need. Now going to sort through it for what we need for our json\n",
    "\n",
    "#LIST:\n",
    "# title INSTNM\n",
    "# tuition I have both instate and out of state.\n",
    "# image IMG from test.py. merge later\n",
    "# location STABBR + CITY + ZIP + Region?\n",
    "# rating ?\n"
   ]
  },
  {
   "cell_type": "code",
   "execution_count": 4,
   "metadata": {},
   "outputs": [
    {
     "data": {
      "text/plain": [
       "Index(['Unnamed: 0', 'UNITID', 'INSTNM', 'CITY', 'STABBR', 'ZIP', 'REGION',\n",
       "       'PREDDEG', 'LOCALE', 'LATITUDE', 'LONGITUDE', 'CCBASIC', 'CCUGPROF',\n",
       "       'CCSIZSET', 'ADM_RATE_ALL', 'PPTUG_EF', 'SAT_AVG_ALL', 'COSTT4_A',\n",
       "       'CONTROL', 'TUITIONFEE_IN', 'TUITIONFEE_OUT', 'MEDIAN_HH_INC',\n",
       "       'MN_EARN_WNE_INDEP0_P10', 'MN_EARN_WNE_INDEP1_P10', 'UGDS_WHITE',\n",
       "       'UGDS_BLACK', 'UGDS_HISP', 'UGDS_ASIAN', 'UGDS_AIAN', 'UGDS_NHPI',\n",
       "       'UGDS_2MOR', 'UGDS_NRA', 'UGDS_UNKN'],\n",
       "      dtype='object')"
      ]
     },
     "execution_count": 4,
     "metadata": {},
     "output_type": "execute_result"
    }
   ],
   "source": [
    "# df.columns"
   ]
  },
  {
   "cell_type": "code",
   "execution_count": 9,
   "metadata": {},
   "outputs": [
    {
     "data": {
      "text/html": [
       "<div>\n",
       "<style scoped>\n",
       "    .dataframe tbody tr th:only-of-type {\n",
       "        vertical-align: middle;\n",
       "    }\n",
       "\n",
       "    .dataframe tbody tr th {\n",
       "        vertical-align: top;\n",
       "    }\n",
       "\n",
       "    .dataframe thead th {\n",
       "        text-align: right;\n",
       "    }\n",
       "</style>\n",
       "<table border=\"1\" class=\"dataframe\">\n",
       "  <thead>\n",
       "    <tr style=\"text-align: right;\">\n",
       "      <th></th>\n",
       "      <th>Unnamed: 0</th>\n",
       "      <th>UNITID</th>\n",
       "      <th>INSTNM</th>\n",
       "      <th>CITY</th>\n",
       "      <th>STABBR</th>\n",
       "      <th>ZIP</th>\n",
       "      <th>REGION</th>\n",
       "      <th>PREDDEG</th>\n",
       "      <th>LOCALE</th>\n",
       "      <th>LATITUDE</th>\n",
       "      <th>...</th>\n",
       "      <th>MN_EARN_WNE_INDEP1_P10</th>\n",
       "      <th>UGDS_WHITE</th>\n",
       "      <th>UGDS_BLACK</th>\n",
       "      <th>UGDS_HISP</th>\n",
       "      <th>UGDS_ASIAN</th>\n",
       "      <th>UGDS_AIAN</th>\n",
       "      <th>UGDS_NHPI</th>\n",
       "      <th>UGDS_2MOR</th>\n",
       "      <th>UGDS_NRA</th>\n",
       "      <th>UGDS_UNKN</th>\n",
       "    </tr>\n",
       "  </thead>\n",
       "  <tbody>\n",
       "    <tr>\n",
       "      <th>2073</th>\n",
       "      <td>2073</td>\n",
       "      <td>190558</td>\n",
       "      <td>College of Staten Island CUNY</td>\n",
       "      <td>Staten Island</td>\n",
       "      <td>NY</td>\n",
       "      <td>10314</td>\n",
       "      <td>2</td>\n",
       "      <td>3</td>\n",
       "      <td>11.0</td>\n",
       "      <td>40.601831</td>\n",
       "      <td>...</td>\n",
       "      <td>52100</td>\n",
       "      <td>0.411</td>\n",
       "      <td>0.1556</td>\n",
       "      <td>0.2589</td>\n",
       "      <td>0.1188</td>\n",
       "      <td>0.0013</td>\n",
       "      <td>0.0018</td>\n",
       "      <td>0.0285</td>\n",
       "      <td>0.0242</td>\n",
       "      <td>0.0</td>\n",
       "    </tr>\n",
       "  </tbody>\n",
       "</table>\n",
       "<p>1 rows × 33 columns</p>\n",
       "</div>"
      ],
      "text/plain": [
       "      Unnamed: 0  UNITID                         INSTNM           CITY STABBR  \\\n",
       "2073        2073  190558  College of Staten Island CUNY  Staten Island     NY   \n",
       "\n",
       "        ZIP  REGION  PREDDEG  LOCALE   LATITUDE  ...  MN_EARN_WNE_INDEP1_P10  \\\n",
       "2073  10314       2        3    11.0  40.601831  ...                   52100   \n",
       "\n",
       "      UGDS_WHITE  UGDS_BLACK  UGDS_HISP  UGDS_ASIAN  UGDS_AIAN  UGDS_NHPI  \\\n",
       "2073       0.411      0.1556     0.2589      0.1188     0.0013     0.0018   \n",
       "\n",
       "      UGDS_2MOR  UGDS_NRA  UGDS_UNKN  \n",
       "2073     0.0285    0.0242        0.0  \n",
       "\n",
       "[1 rows x 33 columns]"
      ]
     },
     "execution_count": 9,
     "metadata": {},
     "output_type": "execute_result"
    }
   ],
   "source": [
    "# df[df['INSTNM'] == 'College of Staten Island CUNY']"
   ]
  },
  {
   "cell_type": "code",
   "execution_count": 12,
   "metadata": {},
   "outputs": [],
   "source": [
    "# concat_cols = ['CITY','STABBR','ZIP']\n",
    "# df['location'] = df[['CITY','STABBR','ZIP']].agg(' '.join, axis=1)"
   ]
  },
  {
   "cell_type": "code",
   "execution_count": 13,
   "metadata": {},
   "outputs": [
    {
     "data": {
      "text/html": [
       "<div>\n",
       "<style scoped>\n",
       "    .dataframe tbody tr th:only-of-type {\n",
       "        vertical-align: middle;\n",
       "    }\n",
       "\n",
       "    .dataframe tbody tr th {\n",
       "        vertical-align: top;\n",
       "    }\n",
       "\n",
       "    .dataframe thead th {\n",
       "        text-align: right;\n",
       "    }\n",
       "</style>\n",
       "<table border=\"1\" class=\"dataframe\">\n",
       "  <thead>\n",
       "    <tr style=\"text-align: right;\">\n",
       "      <th></th>\n",
       "      <th>Unnamed: 0</th>\n",
       "      <th>UNITID</th>\n",
       "      <th>INSTNM</th>\n",
       "      <th>CITY</th>\n",
       "      <th>STABBR</th>\n",
       "      <th>ZIP</th>\n",
       "      <th>REGION</th>\n",
       "      <th>PREDDEG</th>\n",
       "      <th>LOCALE</th>\n",
       "      <th>LATITUDE</th>\n",
       "      <th>...</th>\n",
       "      <th>UGDS_WHITE</th>\n",
       "      <th>UGDS_BLACK</th>\n",
       "      <th>UGDS_HISP</th>\n",
       "      <th>UGDS_ASIAN</th>\n",
       "      <th>UGDS_AIAN</th>\n",
       "      <th>UGDS_NHPI</th>\n",
       "      <th>UGDS_2MOR</th>\n",
       "      <th>UGDS_NRA</th>\n",
       "      <th>UGDS_UNKN</th>\n",
       "      <th>location</th>\n",
       "    </tr>\n",
       "  </thead>\n",
       "  <tbody>\n",
       "    <tr>\n",
       "      <th>0</th>\n",
       "      <td>0</td>\n",
       "      <td>100654</td>\n",
       "      <td>Alabama A &amp; M University</td>\n",
       "      <td>Normal</td>\n",
       "      <td>AL</td>\n",
       "      <td>35762</td>\n",
       "      <td>5</td>\n",
       "      <td>3</td>\n",
       "      <td>12.0</td>\n",
       "      <td>34.783368</td>\n",
       "      <td>...</td>\n",
       "      <td>0.0184</td>\n",
       "      <td>0.8978</td>\n",
       "      <td>0.0114</td>\n",
       "      <td>0.0014</td>\n",
       "      <td>0.0027</td>\n",
       "      <td>0.0010</td>\n",
       "      <td>0.0108</td>\n",
       "      <td>0.0086</td>\n",
       "      <td>0.0479</td>\n",
       "      <td>Normal AL 35762</td>\n",
       "    </tr>\n",
       "    <tr>\n",
       "      <th>1</th>\n",
       "      <td>1</td>\n",
       "      <td>100663</td>\n",
       "      <td>University of Alabama at Birmingham</td>\n",
       "      <td>Birmingham</td>\n",
       "      <td>AL</td>\n",
       "      <td>35294-0110</td>\n",
       "      <td>5</td>\n",
       "      <td>3</td>\n",
       "      <td>12.0</td>\n",
       "      <td>33.505697</td>\n",
       "      <td>...</td>\n",
       "      <td>0.5297</td>\n",
       "      <td>0.2458</td>\n",
       "      <td>0.0669</td>\n",
       "      <td>0.0767</td>\n",
       "      <td>0.0021</td>\n",
       "      <td>0.0004</td>\n",
       "      <td>0.0483</td>\n",
       "      <td>0.0233</td>\n",
       "      <td>0.0068</td>\n",
       "      <td>Birmingham AL 35294-0110</td>\n",
       "    </tr>\n",
       "    <tr>\n",
       "      <th>2</th>\n",
       "      <td>2</td>\n",
       "      <td>100690</td>\n",
       "      <td>Amridge University</td>\n",
       "      <td>Montgomery</td>\n",
       "      <td>AL</td>\n",
       "      <td>36117-3553</td>\n",
       "      <td>5</td>\n",
       "      <td>3</td>\n",
       "      <td>12.0</td>\n",
       "      <td>32.362609</td>\n",
       "      <td>...</td>\n",
       "      <td>0.2470</td>\n",
       "      <td>0.6932</td>\n",
       "      <td>0.0438</td>\n",
       "      <td>0.0000</td>\n",
       "      <td>0.0000</td>\n",
       "      <td>0.0040</td>\n",
       "      <td>0.0000</td>\n",
       "      <td>0.0000</td>\n",
       "      <td>0.0120</td>\n",
       "      <td>Montgomery AL 36117-3553</td>\n",
       "    </tr>\n",
       "    <tr>\n",
       "      <th>3</th>\n",
       "      <td>3</td>\n",
       "      <td>100706</td>\n",
       "      <td>University of Alabama in Huntsville</td>\n",
       "      <td>Huntsville</td>\n",
       "      <td>AL</td>\n",
       "      <td>35899</td>\n",
       "      <td>5</td>\n",
       "      <td>3</td>\n",
       "      <td>12.0</td>\n",
       "      <td>34.724557</td>\n",
       "      <td>...</td>\n",
       "      <td>0.7196</td>\n",
       "      <td>0.0871</td>\n",
       "      <td>0.0610</td>\n",
       "      <td>0.0357</td>\n",
       "      <td>0.0080</td>\n",
       "      <td>0.0012</td>\n",
       "      <td>0.0446</td>\n",
       "      <td>0.0166</td>\n",
       "      <td>0.0261</td>\n",
       "      <td>Huntsville AL 35899</td>\n",
       "    </tr>\n",
       "    <tr>\n",
       "      <th>4</th>\n",
       "      <td>4</td>\n",
       "      <td>100724</td>\n",
       "      <td>Alabama State University</td>\n",
       "      <td>Montgomery</td>\n",
       "      <td>AL</td>\n",
       "      <td>36104-0271</td>\n",
       "      <td>5</td>\n",
       "      <td>3</td>\n",
       "      <td>12.0</td>\n",
       "      <td>32.364317</td>\n",
       "      <td>...</td>\n",
       "      <td>0.0152</td>\n",
       "      <td>0.9259</td>\n",
       "      <td>0.0129</td>\n",
       "      <td>0.0020</td>\n",
       "      <td>0.0017</td>\n",
       "      <td>0.0014</td>\n",
       "      <td>0.0132</td>\n",
       "      <td>0.0166</td>\n",
       "      <td>0.0112</td>\n",
       "      <td>Montgomery AL 36104-0271</td>\n",
       "    </tr>\n",
       "  </tbody>\n",
       "</table>\n",
       "<p>5 rows × 34 columns</p>\n",
       "</div>"
      ],
      "text/plain": [
       "   Unnamed: 0  UNITID                               INSTNM        CITY STABBR  \\\n",
       "0           0  100654             Alabama A & M University      Normal     AL   \n",
       "1           1  100663  University of Alabama at Birmingham  Birmingham     AL   \n",
       "2           2  100690                   Amridge University  Montgomery     AL   \n",
       "3           3  100706  University of Alabama in Huntsville  Huntsville     AL   \n",
       "4           4  100724             Alabama State University  Montgomery     AL   \n",
       "\n",
       "          ZIP  REGION  PREDDEG  LOCALE   LATITUDE  ...  UGDS_WHITE  \\\n",
       "0       35762       5        3    12.0  34.783368  ...      0.0184   \n",
       "1  35294-0110       5        3    12.0  33.505697  ...      0.5297   \n",
       "2  36117-3553       5        3    12.0  32.362609  ...      0.2470   \n",
       "3       35899       5        3    12.0  34.724557  ...      0.7196   \n",
       "4  36104-0271       5        3    12.0  32.364317  ...      0.0152   \n",
       "\n",
       "   UGDS_BLACK  UGDS_HISP  UGDS_ASIAN  UGDS_AIAN  UGDS_NHPI  UGDS_2MOR  \\\n",
       "0      0.8978     0.0114      0.0014     0.0027     0.0010     0.0108   \n",
       "1      0.2458     0.0669      0.0767     0.0021     0.0004     0.0483   \n",
       "2      0.6932     0.0438      0.0000     0.0000     0.0040     0.0000   \n",
       "3      0.0871     0.0610      0.0357     0.0080     0.0012     0.0446   \n",
       "4      0.9259     0.0129      0.0020     0.0017     0.0014     0.0132   \n",
       "\n",
       "   UGDS_NRA  UGDS_UNKN                  location  \n",
       "0    0.0086     0.0479           Normal AL 35762  \n",
       "1    0.0233     0.0068  Birmingham AL 35294-0110  \n",
       "2    0.0000     0.0120  Montgomery AL 36117-3553  \n",
       "3    0.0166     0.0261       Huntsville AL 35899  \n",
       "4    0.0166     0.0112  Montgomery AL 36104-0271  \n",
       "\n",
       "[5 rows x 34 columns]"
      ]
     },
     "execution_count": 13,
     "metadata": {},
     "output_type": "execute_result"
    }
   ],
   "source": [
    "# df.head()"
   ]
  },
  {
   "cell_type": "code",
   "execution_count": 14,
   "metadata": {},
   "outputs": [
    {
     "data": {
      "text/plain": [
       "0                Normal AL 35762\n",
       "1       Birmingham AL 35294-0110\n",
       "2       Montgomery AL 36117-3553\n",
       "3            Huntsville AL 35899\n",
       "4       Montgomery AL 36104-0271\n",
       "                  ...           \n",
       "6538          York PA 17403-3326\n",
       "6539       Malvern PA 19355-1488\n",
       "6540    Middletown PA 17057-4846\n",
       "6541         Media PA 19063-5522\n",
       "6542       Medford NJ 08055-0000\n",
       "Name: location, Length: 6543, dtype: object"
      ]
     },
     "execution_count": 14,
     "metadata": {},
     "output_type": "execute_result"
    }
   ],
   "source": [
    "# df['location']"
   ]
  },
  {
   "cell_type": "code",
   "execution_count": 15,
   "metadata": {},
   "outputs": [],
   "source": [
    "# selected_columns = ['INSTNM', \"TUITIONFEE_IN\",'location']"
   ]
  },
  {
   "cell_type": "code",
   "execution_count": 16,
   "metadata": {},
   "outputs": [],
   "source": [
    "# selectedColumnsdf = df[selected_columns]"
   ]
  },
  {
   "cell_type": "code",
   "execution_count": 17,
   "metadata": {},
   "outputs": [
    {
     "data": {
      "text/html": [
       "<div>\n",
       "<style scoped>\n",
       "    .dataframe tbody tr th:only-of-type {\n",
       "        vertical-align: middle;\n",
       "    }\n",
       "\n",
       "    .dataframe tbody tr th {\n",
       "        vertical-align: top;\n",
       "    }\n",
       "\n",
       "    .dataframe thead th {\n",
       "        text-align: right;\n",
       "    }\n",
       "</style>\n",
       "<table border=\"1\" class=\"dataframe\">\n",
       "  <thead>\n",
       "    <tr style=\"text-align: right;\">\n",
       "      <th></th>\n",
       "      <th>INSTNM</th>\n",
       "      <th>TUITIONFEE_IN</th>\n",
       "      <th>location</th>\n",
       "    </tr>\n",
       "  </thead>\n",
       "  <tbody>\n",
       "    <tr>\n",
       "      <th>0</th>\n",
       "      <td>Alabama A &amp; M University</td>\n",
       "      <td>10024.0</td>\n",
       "      <td>Normal AL 35762</td>\n",
       "    </tr>\n",
       "    <tr>\n",
       "      <th>1</th>\n",
       "      <td>University of Alabama at Birmingham</td>\n",
       "      <td>8568.0</td>\n",
       "      <td>Birmingham AL 35294-0110</td>\n",
       "    </tr>\n",
       "    <tr>\n",
       "      <th>2</th>\n",
       "      <td>Amridge University</td>\n",
       "      <td>NaN</td>\n",
       "      <td>Montgomery AL 36117-3553</td>\n",
       "    </tr>\n",
       "    <tr>\n",
       "      <th>3</th>\n",
       "      <td>University of Alabama in Huntsville</td>\n",
       "      <td>11488.0</td>\n",
       "      <td>Huntsville AL 35899</td>\n",
       "    </tr>\n",
       "    <tr>\n",
       "      <th>4</th>\n",
       "      <td>Alabama State University</td>\n",
       "      <td>11068.0</td>\n",
       "      <td>Montgomery AL 36104-0271</td>\n",
       "    </tr>\n",
       "  </tbody>\n",
       "</table>\n",
       "</div>"
      ],
      "text/plain": [
       "                                INSTNM  TUITIONFEE_IN  \\\n",
       "0             Alabama A & M University        10024.0   \n",
       "1  University of Alabama at Birmingham         8568.0   \n",
       "2                   Amridge University            NaN   \n",
       "3  University of Alabama in Huntsville        11488.0   \n",
       "4             Alabama State University        11068.0   \n",
       "\n",
       "                   location  \n",
       "0           Normal AL 35762  \n",
       "1  Birmingham AL 35294-0110  \n",
       "2  Montgomery AL 36117-3553  \n",
       "3       Huntsville AL 35899  \n",
       "4  Montgomery AL 36104-0271  "
      ]
     },
     "execution_count": 17,
     "metadata": {},
     "output_type": "execute_result"
    }
   ],
   "source": [
    "# selectedColumnsdf.head()"
   ]
  },
  {
   "cell_type": "code",
   "execution_count": 26,
   "metadata": {},
   "outputs": [
    {
     "name": "stderr",
     "output_type": "stream",
     "text": [
      "C:\\Users\\dsouz\\AppData\\Local\\Temp\\ipykernel_20328\\2053249834.py:1: SettingWithCopyWarning: \n",
      "A value is trying to be set on a copy of a slice from a DataFrame\n",
      "\n",
      "See the caveats in the documentation: https://pandas.pydata.org/pandas-docs/stable/user_guide/indexing.html#returning-a-view-versus-a-copy\n",
      "  selectedColumnsdf.rename(columns={\"INSTNM\": \"title\", \"TUITIONFEE_IN\": \"tuition\"}, inplace=True)\n"
     ]
    }
   ],
   "source": [
    "# selectedColumnsdf.rename(columns={\"INSTNM\": \"title\", \"TUITIONFEE_IN\": \"tuition\"}, inplace=True)"
   ]
  },
  {
   "cell_type": "code",
   "execution_count": 27,
   "metadata": {},
   "outputs": [
    {
     "data": {
      "text/html": [
       "<div>\n",
       "<style scoped>\n",
       "    .dataframe tbody tr th:only-of-type {\n",
       "        vertical-align: middle;\n",
       "    }\n",
       "\n",
       "    .dataframe tbody tr th {\n",
       "        vertical-align: top;\n",
       "    }\n",
       "\n",
       "    .dataframe thead th {\n",
       "        text-align: right;\n",
       "    }\n",
       "</style>\n",
       "<table border=\"1\" class=\"dataframe\">\n",
       "  <thead>\n",
       "    <tr style=\"text-align: right;\">\n",
       "      <th></th>\n",
       "      <th>title</th>\n",
       "      <th>tuition</th>\n",
       "      <th>location</th>\n",
       "    </tr>\n",
       "  </thead>\n",
       "  <tbody>\n",
       "    <tr>\n",
       "      <th>0</th>\n",
       "      <td>Alabama A &amp; M University</td>\n",
       "      <td>10024.0</td>\n",
       "      <td>Normal AL 35762</td>\n",
       "    </tr>\n",
       "    <tr>\n",
       "      <th>1</th>\n",
       "      <td>University of Alabama at Birmingham</td>\n",
       "      <td>8568.0</td>\n",
       "      <td>Birmingham AL 35294-0110</td>\n",
       "    </tr>\n",
       "    <tr>\n",
       "      <th>2</th>\n",
       "      <td>Amridge University</td>\n",
       "      <td>NaN</td>\n",
       "      <td>Montgomery AL 36117-3553</td>\n",
       "    </tr>\n",
       "    <tr>\n",
       "      <th>3</th>\n",
       "      <td>University of Alabama in Huntsville</td>\n",
       "      <td>11488.0</td>\n",
       "      <td>Huntsville AL 35899</td>\n",
       "    </tr>\n",
       "    <tr>\n",
       "      <th>4</th>\n",
       "      <td>Alabama State University</td>\n",
       "      <td>11068.0</td>\n",
       "      <td>Montgomery AL 36104-0271</td>\n",
       "    </tr>\n",
       "  </tbody>\n",
       "</table>\n",
       "</div>"
      ],
      "text/plain": [
       "                                 title  tuition                  location\n",
       "0             Alabama A & M University  10024.0           Normal AL 35762\n",
       "1  University of Alabama at Birmingham   8568.0  Birmingham AL 35294-0110\n",
       "2                   Amridge University      NaN  Montgomery AL 36117-3553\n",
       "3  University of Alabama in Huntsville  11488.0       Huntsville AL 35899\n",
       "4             Alabama State University  11068.0  Montgomery AL 36104-0271"
      ]
     },
     "execution_count": 27,
     "metadata": {},
     "output_type": "execute_result"
    }
   ],
   "source": [
    "# selectedColumnsdf.head()"
   ]
  },
  {
   "cell_type": "code",
   "execution_count": 33,
   "metadata": {},
   "outputs": [],
   "source": [
    "# eee = selectedColumnsdf.dropna()"
   ]
  },
  {
   "cell_type": "code",
   "execution_count": 34,
   "metadata": {},
   "outputs": [
    {
     "data": {
      "text/plain": [
       "(6543, 3)"
      ]
     },
     "execution_count": 34,
     "metadata": {},
     "output_type": "execute_result"
    }
   ],
   "source": [
    "# selectedColumnsdf.shape"
   ]
  },
  {
   "cell_type": "code",
   "execution_count": 35,
   "metadata": {},
   "outputs": [
    {
     "data": {
      "text/plain": [
       "(3787, 3)"
      ]
     },
     "execution_count": 35,
     "metadata": {},
     "output_type": "execute_result"
    }
   ],
   "source": [
    "# eee.shape"
   ]
  },
  {
   "cell_type": "code",
   "execution_count": 36,
   "metadata": {},
   "outputs": [],
   "source": [
    "eee.to_json('../data/schoolSchema.json')"
   ]
  },
  {
   "cell_type": "code",
   "execution_count": null,
   "metadata": {},
   "outputs": [],
   "source": []
  },
  {
   "cell_type": "code",
   "execution_count": 37,
   "metadata": {},
   "outputs": [],
   "source": [
    "eee.to_csv('../data/schoolSchema.csv')"
   ]
  },
  {
   "cell_type": "code",
   "execution_count": 38,
   "metadata": {},
   "outputs": [
    {
     "name": "stderr",
     "output_type": "stream",
     "text": [
      "C:\\Users\\dsouz\\AppData\\Local\\Temp\\ipykernel_20328\\2554563061.py:1: SettingWithCopyWarning: \n",
      "A value is trying to be set on a copy of a slice from a DataFrame.\n",
      "Try using .loc[row_indexer,col_indexer] = value instead\n",
      "\n",
      "See the caveats in the documentation: https://pandas.pydata.org/pandas-docs/stable/user_guide/indexing.html#returning-a-view-versus-a-copy\n",
      "  eee['image'] = ''\n"
     ]
    }
   ],
   "source": [
    "eee['image'] = ''"
   ]
  },
  {
   "cell_type": "code",
   "execution_count": 39,
   "metadata": {},
   "outputs": [
    {
     "data": {
      "text/html": [
       "<div>\n",
       "<style scoped>\n",
       "    .dataframe tbody tr th:only-of-type {\n",
       "        vertical-align: middle;\n",
       "    }\n",
       "\n",
       "    .dataframe tbody tr th {\n",
       "        vertical-align: top;\n",
       "    }\n",
       "\n",
       "    .dataframe thead th {\n",
       "        text-align: right;\n",
       "    }\n",
       "</style>\n",
       "<table border=\"1\" class=\"dataframe\">\n",
       "  <thead>\n",
       "    <tr style=\"text-align: right;\">\n",
       "      <th></th>\n",
       "      <th>title</th>\n",
       "      <th>tuition</th>\n",
       "      <th>location</th>\n",
       "      <th>image</th>\n",
       "    </tr>\n",
       "  </thead>\n",
       "  <tbody>\n",
       "    <tr>\n",
       "      <th>0</th>\n",
       "      <td>Alabama A &amp; M University</td>\n",
       "      <td>10024.0</td>\n",
       "      <td>Normal AL 35762</td>\n",
       "      <td></td>\n",
       "    </tr>\n",
       "    <tr>\n",
       "      <th>1</th>\n",
       "      <td>University of Alabama at Birmingham</td>\n",
       "      <td>8568.0</td>\n",
       "      <td>Birmingham AL 35294-0110</td>\n",
       "      <td></td>\n",
       "    </tr>\n",
       "    <tr>\n",
       "      <th>3</th>\n",
       "      <td>University of Alabama in Huntsville</td>\n",
       "      <td>11488.0</td>\n",
       "      <td>Huntsville AL 35899</td>\n",
       "      <td></td>\n",
       "    </tr>\n",
       "    <tr>\n",
       "      <th>4</th>\n",
       "      <td>Alabama State University</td>\n",
       "      <td>11068.0</td>\n",
       "      <td>Montgomery AL 36104-0271</td>\n",
       "      <td></td>\n",
       "    </tr>\n",
       "    <tr>\n",
       "      <th>5</th>\n",
       "      <td>The University of Alabama</td>\n",
       "      <td>11620.0</td>\n",
       "      <td>Tuscaloosa AL 35487-0100</td>\n",
       "      <td></td>\n",
       "    </tr>\n",
       "  </tbody>\n",
       "</table>\n",
       "</div>"
      ],
      "text/plain": [
       "                                 title  tuition                  location  \\\n",
       "0             Alabama A & M University  10024.0           Normal AL 35762   \n",
       "1  University of Alabama at Birmingham   8568.0  Birmingham AL 35294-0110   \n",
       "3  University of Alabama in Huntsville  11488.0       Huntsville AL 35899   \n",
       "4             Alabama State University  11068.0  Montgomery AL 36104-0271   \n",
       "5            The University of Alabama  11620.0  Tuscaloosa AL 35487-0100   \n",
       "\n",
       "  image  \n",
       "0        \n",
       "1        \n",
       "3        \n",
       "4        \n",
       "5        "
      ]
     },
     "execution_count": 39,
     "metadata": {},
     "output_type": "execute_result"
    }
   ],
   "source": [
    "eee.head()"
   ]
  },
  {
   "cell_type": "code",
   "execution_count": 40,
   "metadata": {},
   "outputs": [],
   "source": [
    "eee.to_json('../data/schoolSchema.json')\n",
    "eee.to_csv('../data/schoolSchema.csv')"
   ]
  },
  {
   "cell_type": "code",
   "execution_count": null,
   "metadata": {},
   "outputs": [],
   "source": []
  }
 ],
 "metadata": {
  "kernelspec": {
   "display_name": "Python 3",
   "language": "python",
   "name": "python3"
  },
  "language_info": {
   "codemirror_mode": {
    "name": "ipython",
    "version": 3
   },
   "file_extension": ".py",
   "mimetype": "text/x-python",
   "name": "python",
   "nbconvert_exporter": "python",
   "pygments_lexer": "ipython3",
   "version": "3.11.4"
  }
 },
 "nbformat": 4,
 "nbformat_minor": 2
}
